{
 "cells": [
  {
   "cell_type": "markdown",
   "metadata": {},
   "source": [
    "# LINEAR REGRESSION"
   ]
  },
  {
   "cell_type": "code",
   "execution_count": 1,
   "metadata": {},
   "outputs": [],
   "source": [
    "import torch\n",
    "import torch.nn as nn\n",
    "import numpy as np\n",
    "import pandas as pd\n",
    "import matplotlib.pyplot as plt\n",
    "%matplotlib inline"
   ]
  },
  {
   "cell_type": "code",
   "execution_count": 2,
   "metadata": {},
   "outputs": [
    {
     "data": {
      "image/png": "[encoded data removed]",
      "text/plain": [
       "<Figure size 640x480 with 1 Axes>"
      ]
     },
     "metadata": {},
     "output_type": "display_data"
    }
   ],
   "source": [
    "X = torch.linspace(1,50,50).reshape(-1,1)\n",
    "torch.manual_seed(71) # to obtain reproducible results\n",
    "e = torch.randint(-8,9,(50,1),dtype=torch.float)\n",
    "y = 2*X + 1 + e\n",
    "plt.scatter(X.numpy(), y.numpy())\n",
    "plt.ylabel('y')\n",
    "plt.xlabel('x');"
   ]
  },
  {
   "cell_type": "code",
   "execution_count": 10,
   "metadata": {},
   "outputs": [],
   "source": [
    "class Model(nn.Module):\n",
    "    def __init__(self, in_dim, out_dim):\n",
    "        super().__init__()\n",
    "\n",
    "        # define the layers here\n",
    "        self.linear = nn.Linear(in_dim, out_dim)\n",
    "\n",
    "    # connect the layer to each pther in this method\n",
    "    def forward(self, x):\n",
    "        out = self.linear(x)\n",
    "\n",
    "        return out\n"
   ]
  },
  {
   "cell_type": "code",
   "execution_count": 13,
   "metadata": {},
   "outputs": [],
   "source": [
    "# define the model\n",
    "model = Model(1,1)\n",
    "\n",
    "# define the loss function\n",
    "criterion = nn.MSELoss()\n",
    "\n",
    "# set the optimizer\n",
    "optimizer = torch.optim.SGD(model.parameters(), lr = 0.001)"
   ]
  },
  {
   "cell_type": "markdown",
   "metadata": {},
   "source": [
    "<div class=\"alert alert-info\"><strong>Let's walk through the steps we're about to take:</strong><br>\n",
    "\n",
    "1. Set a reasonably large number of passes<br>\n",
    "<tt><font color=black>epochs = 50</font></tt><br>\n",
    "2. Create a list to store loss values. This will let us view our progress afterward.<br>\n",
    "<tt><font color=black>losses = []</font></tt><br>\n",
    "<tt><font color=black>for i in range(epochs):</font></tt><br>\n",
    "3. Bump \"i\" so that the printed report starts at 1<br>\n",
    "<tt><font color=black>&nbsp;&nbsp;&nbsp;&nbsp;i+=1</font></tt><br>\n",
    "4. Create a prediction set by running \"X\" through the current model parameters<br>\n",
    "<tt><font color=black>&nbsp;&nbsp;&nbsp;&nbsp;y_pred = model.forward(X)</font></tt><br>\n",
    "5. Calculate the loss<br>\n",
    "<tt><font color=black>&nbsp;&nbsp;&nbsp;&nbsp;loss = criterion(y_pred, y)</font></tt><br>\n",
    "6. Add the loss value to our tracking list<br>\n",
    "<tt><font color=black>&nbsp;&nbsp;&nbsp;&nbsp;losses.append(loss)</font></tt><br>\n",
    "7. Print the current line of results<br>\n",
    "<tt><font color=black>&nbsp;&nbsp;&nbsp;&nbsp;print(f'epoch: {i:2} loss: {loss.item():10.8f}')</font></tt><br>\n",
    "8. Gradients accumulate with every backprop. To prevent compounding we need to reset the stored gradient for each new epoch` = it means in the optimizer, make the gradients zero.`<br>\n",
    "<tt><font color=black>&nbsp;&nbsp;&nbsp;&nbsp;optimizer.zero_grad()</font></tt><br>\n",
    "9. Now we can backprop `= it means we calculate the gradients of loss function wrt the weights and biases`<br>\n",
    "<tt><font color=black>&nbsp;&nbsp;&nbsp;&nbsp;loss.backward()</font></tt><br>\n",
    "10. Finally, we can update the hyperparameters of our model `= it means that we update the weights of the model`<br>\n",
    "<tt><font color=black>&nbsp;&nbsp;&nbsp;&nbsp;optimizer.step()</font></tt>\n",
    "</div>"
   ]
  },
  {
   "cell_type": "code",
   "execution_count": 14,
   "metadata": {},
   "outputs": [
    {
     "name": "stdout",
     "output_type": "stream",
     "text": [
      "epoch:  1  loss: 5759.10205078  weight: -0.56887245  bias: -0.03454399\n",
      "epoch:  2  loss: 2983.87500000  weight: 3.86968350  bias: 0.09853759\n",
      "epoch:  3  loss: 1551.12353516  weight: 0.68045115  bias: 0.00498665\n",
      "epoch:  4  loss: 811.44390869  weight: 2.97190213  bias: 0.07427367\n",
      "epoch:  5  loss: 429.57305908  weight: 1.32539833  bias: 0.02655811\n",
      "epoch:  6  loss: 232.42646790  weight: 2.50837517  bias: 0.06290969\n",
      "epoch:  7  loss: 130.64584351  weight: 1.65832651  bias: 0.03885673\n",
      "epoch:  8  loss: 78.09941101  weight: 2.26903820  bias: 0.05820436\n",
      "epoch:  9  loss: 50.97087097  weight: 1.83017123  bias: 0.04636700\n",
      "epoch: 10  loss: 36.96467209  weight: 2.14544249  bias: 0.05693554\n",
      "epoch: 11  loss: 29.73308182  weight: 1.91885400  bias: 0.05140410\n",
      "epoch: 12  loss: 25.99896240  weight: 2.08159995  bias: 0.05743973\n",
      "epoch: 13  loss: 24.07049561  weight: 1.96460342  bias: 0.05516326\n",
      "epoch: 14  loss: 23.07420921  weight: 2.04860616  bias: 0.05885816\n",
      "epoch: 15  loss: 22.55915833  weight: 1.98818755  bias: 0.05826152\n",
      "epoch: 16  loss: 22.29256630  weight: 2.03153825  bias: 0.06074744\n",
      "epoch: 17  loss: 22.15423584  weight: 2.00032902  bias: 0.06101749\n",
      "epoch: 18  loss: 22.08213806  weight: 2.02269220  bias: 0.06287868\n",
      "epoch: 19  loss: 22.04421806  weight: 2.00656271  bias: 0.06359562\n",
      "epoch: 20  loss: 22.02395439  weight: 2.01809096  bias: 0.06513372\n",
      "epoch: 21  loss: 22.01280212  weight: 2.00974703  bias: 0.06608082\n",
      "epoch: 22  loss: 22.00635910  weight: 2.01568127  bias: 0.06745156\n",
      "epoch: 23  loss: 22.00234222  weight: 2.01135659  bias: 0.06851691\n",
      "epoch: 24  loss: 21.99958229  weight: 2.01440287  bias: 0.06980069\n",
      "epoch: 25  loss: 21.99746895  weight: 2.01215339  bias: 0.07092654\n",
      "epoch: 26  loss: 21.99569130  weight: 2.01370883  bias: 0.07216486\n",
      "epoch: 27  loss: 21.99409103  weight: 2.01253033  bias: 0.07332138\n",
      "epoch: 28  loss: 21.99258232  weight: 2.01331639  bias: 0.07453569\n",
      "epoch: 29  loss: 21.99111748  weight: 2.01269078  bias: 0.07570748\n",
      "epoch: 30  loss: 21.98967743  weight: 2.01307964  bias: 0.07690883\n",
      "epoch: 31  loss: 21.98824883  weight: 2.01273942  bias: 0.07808796\n",
      "epoch: 32  loss: 21.98683548  weight: 2.01292348  bias: 0.07928207\n",
      "epoch: 33  loss: 21.98541832  weight: 2.01273036  bias: 0.08046441\n",
      "epoch: 34  loss: 21.98400688  weight: 2.01280856  bias: 0.08165423\n",
      "epoch: 35  loss: 21.98260307  weight: 2.01269174  bias: 0.08283768\n",
      "epoch: 36  loss: 21.98119164  weight: 2.01271534  bias: 0.08402472\n",
      "epoch: 37  loss: 21.97978783  weight: 2.01263785  bias: 0.08520819\n",
      "epoch: 38  loss: 21.97838402  weight: 2.01263309  bias: 0.08639324\n",
      "epoch: 39  loss: 21.97698784  weight: 2.01257610  bias: 0.08757617\n",
      "epoch: 40  loss: 21.97558403  weight: 2.01255655  bias: 0.08875964\n",
      "epoch: 41  loss: 21.97418404  weight: 2.01251006  bias: 0.08994173\n",
      "epoch: 42  loss: 21.97278595  weight: 2.01248312  bias: 0.09112383\n",
      "epoch: 43  loss: 21.97139168  weight: 2.01244211  bias: 0.09230494\n",
      "epoch: 44  loss: 21.96999550  weight: 2.01241136  bias: 0.09348579\n",
      "epoch: 45  loss: 21.96860313  weight: 2.01237345  bias: 0.09466584\n",
      "epoch: 46  loss: 21.96720886  weight: 2.01234031  bias: 0.09584546\n",
      "epoch: 47  loss: 21.96581459  weight: 2.01230383  bias: 0.09702441\n",
      "epoch: 48  loss: 21.96442795  weight: 2.01226997  bias: 0.09820287\n",
      "epoch: 49  loss: 21.96304131  weight: 2.01223397  bias: 0.09938069\n",
      "epoch: 50  loss: 21.96165466  weight: 2.01219988  bias: 0.10055800\n"
     ]
    }
   ],
   "source": [
    "epochs = 50\n",
    "losses = []\n",
    "\n",
    "for i in range(epochs):\n",
    "    i+=1\n",
    "    y_pred = model.forward(X)\n",
    "    loss = criterion(y_pred, y)\n",
    "    losses.append(loss)\n",
    "    print(f'epoch: {i:2}  loss: {loss.item():10.8f}  weight: {model.linear.weight.item():10.8f}  \\\n",
    "bias: {model.linear.bias.item():10.8f}') \n",
    "    optimizer.zero_grad()\n",
    "    loss.backward()\n",
    "    optimizer.step()"
   ]
  },
  {
   "cell_type": "markdown",
   "metadata": {},
   "source": [
    "# CLASSIFICATION"
   ]
  },
  {
   "cell_type": "code",
   "execution_count": null,
   "metadata": {},
   "outputs": [],
   "source": []
  },
  {
   "cell_type": "code",
   "execution_count": null,
   "metadata": {},
   "outputs": [],
   "source": []
  },
  {
   "cell_type": "code",
   "execution_count": null,
   "metadata": {},
   "outputs": [],
   "source": []
  },
  {
   "cell_type": "code",
   "execution_count": null,
   "metadata": {},
   "outputs": [],
   "source": []
  },
  {
   "cell_type": "code",
   "execution_count": null,
   "metadata": {},
   "outputs": [],
   "source": []
  },
  {
   "cell_type": "code",
   "execution_count": null,
   "metadata": {},
   "outputs": [],
   "source": []
  },
  {
   "cell_type": "code",
   "execution_count": null,
   "metadata": {},
   "outputs": [],
   "source": []
  }
 ],
 "metadata": {
  "kernelspec": {
   "display_name": "Python 3.7.13 ('torch')",
   "language": "python",
   "name": "python3"
  },
  "language_info": {
   "codemirror_mode": {
    "name": "ipython",
    "version": 3
   },
   "file_extension": ".py",
   "mimetype": "text/x-python",
   "name": "python",
   "nbconvert_exporter": "python",
   "pygments_lexer": "ipython3",
   "version": "3.7.13"
  },
  "orig_nbformat": 4,
  "vscode": {
   "interpreter": {
    "hash": "9ae291b4cd7a4836e771f8d53379089af05c2abd14e11e95b4de888018ccbdbb"
   }
  }
 },
 "nbformat": 4,
 "nbformat_minor": 2
}
