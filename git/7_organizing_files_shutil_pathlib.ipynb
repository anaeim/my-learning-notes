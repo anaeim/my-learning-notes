{
 "cells": [
  {
   "cell_type": "code",
   "execution_count": 1,
   "metadata": {},
   "outputs": [],
   "source": [
    "from pathlib import Path\n",
    "import sys\n",
    "import shutil"
   ]
  },
  {
   "cell_type": "code",
   "execution_count": 10,
   "metadata": {},
   "outputs": [],
   "source": [
    "dir_path = '/home/ali/Downloads/Telegram Desktop'\n",
    "dir_path = Path(dir_path) #ghablan dir_path ye string bud hala inja dirpath ye object az class e Path hast"
   ]
  },
  {
   "cell_type": "code",
   "execution_count": 11,
   "metadata": {},
   "outputs": [
    {
     "name": "stdout",
     "output_type": "stream",
     "text": [
      "/home/ali/Downloads/Telegram Desktop\n"
     ]
    }
   ],
   "source": [
    "print(dir_path)"
   ]
  },
  {
   "cell_type": "code",
   "execution_count": 7,
   "metadata": {},
   "outputs": [],
   "source": [
    "for item_path in dir_path.iterdir():\n",
    "    # print(item_path)\n",
    "\n",
    "    if not item_path.is_file(): #in kar ro mikonim ke file mun kheyli nested nested nashe\n",
    "        continue\n",
    "\n",
    "    if item_path.suffix.lower() in ['.pdf']:\n",
    "        target_path = Path(item_path.parent, 'pdf_files')\n",
    "        shutil.move(str(item_path), str(target_path)) #az shutil mishe baraye move/delete kardan e file ha estefade kard , str chin shutil faghat string ghabul mikone"
   ]
  },
  {
   "cell_type": "code",
   "execution_count": null,
   "metadata": {},
   "outputs": [],
   "source": []
  },
  {
   "cell_type": "code",
   "execution_count": null,
   "metadata": {},
   "outputs": [],
   "source": []
  },
  {
   "cell_type": "code",
   "execution_count": null,
   "metadata": {},
   "outputs": [],
   "source": []
  },
  {
   "cell_type": "code",
   "execution_count": null,
   "metadata": {},
   "outputs": [],
   "source": []
  },
  {
   "cell_type": "code",
   "execution_count": null,
   "metadata": {},
   "outputs": [],
   "source": []
  }
 ],
 "metadata": {
  "interpreter": {
   "hash": "5ed086fb432da29d44c3175eda7ffdbde5cbb2b1500fcd50a76a45ba811c070d"
  },
  "kernelspec": {
   "display_name": "Python 3.7.13 ('myenv37')",
   "language": "python",
   "name": "python3"
  },
  "language_info": {
   "codemirror_mode": {
    "name": "ipython",
    "version": 3
   },
   "file_extension": ".py",
   "mimetype": "text/x-python",
   "name": "python",
   "nbconvert_exporter": "python",
   "pygments_lexer": "ipython3",
   "version": "3.7.13"
  },
  "orig_nbformat": 4
 },
 "nbformat": 4,
 "nbformat_minor": 2
}
